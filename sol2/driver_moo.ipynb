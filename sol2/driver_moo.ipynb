{
  "nbformat": 4,
  "nbformat_minor": 0,
  "metadata": {
    "kernelspec": {
      "display_name": "virt3.6",
      "language": "python",
      "name": "virt3.6"
    },
    "language_info": {
      "codemirror_mode": {
        "name": "ipython",
        "version": 3
      },
      "file_extension": ".py",
      "mimetype": "text/x-python",
      "name": "python",
      "nbconvert_exporter": "python",
      "pygments_lexer": "ipython3",
      "version": "3.6.12"
    },
    "colab": {
      "name": "driver_moo.ipynb",
      "provenance": [],
      "collapsed_sections": [],
      "toc_visible": true
    }
  },
  "cells": [
    {
      "cell_type": "code",
      "metadata": {
        "id": "yzE-FS78XnC3",
        "colab": {
          "base_uri": "https://localhost:8080/"
        },
        "outputId": "306b1739-699a-459d-aee3-68dfdbf92f87"
      },
      "source": [
        "!git clone https://github.com/cfteach/AI4NP_detector_opt.git\n",
        "!pip install pymoo \n",
        "!rm ./AI4NP_detector_opt/sol2/driver_moo.ipynb\n",
        "!ls -lrth  ./AI4NP_detector_opt/sol2/*\n"
      ],
      "execution_count": 47,
      "outputs": [
        {
          "output_type": "stream",
          "text": [
            "-rw-r--r-- 1 root root 7.8K Jan 10 04:52 ./AI4NP_detector_opt/sol2/detector2.py\n",
            "\n",
            "./AI4NP_detector_opt/sol2/__pycache__:\n",
            "total 8.0K\n",
            "-rw-r--r-- 1 root root 6.7K Jan 10 04:56 detector2.cpython-36.pyc\n"
          ],
          "name": "stdout"
        }
      ]
    },
    {
      "cell_type": "code",
      "metadata": {
        "id": "cK5eRyioXAR1",
        "colab": {
          "base_uri": "https://localhost:8080/"
        },
        "outputId": "fcc6b90d-576e-4467-f938-560693124223"
      },
      "source": [
        "%load_ext autoreload \n",
        "%autoreload 2\n",
        "#%matplotlib notebook\n",
        "#import ipyvolume as ipv\n",
        "#import ipywidgets as widgets\n",
        "\n",
        "\n",
        "from IPython.display import display, Math, Latex\n",
        "\n",
        "\n",
        "import os\n",
        "import matplotlib.pyplot as plt\n",
        "import numpy as np\n",
        "import pandas as pd\n",
        "import AI4NP_detector_opt.sol2.detector2 as detector2 \n",
        "import re\n",
        "import pickle\n",
        "import dill\n",
        "\n",
        "from pymoo.algorithms.nsga2 import NSGA2\n",
        "from pymoo.model.problem import Problem\n",
        "from pymoo.optimize import minimize\n",
        "from pymoo.visualization.scatter import Scatter\n",
        "from pymoo.factory import get_visualization, get_decomposition\n",
        "from pymoo.util.display import Display\n",
        "\n",
        "from pymoo.factory import get_performance_indicator\n",
        "from pymoo.performance_indicator.hv import Hypervolume\n",
        "\n",
        "from pymoo.factory import get_decision_making, get_reference_directions\n",
        "from pymoo.util.nds.non_dominated_sorting import NonDominatedSorting\n"
      ],
      "execution_count": 48,
      "outputs": [
        {
          "output_type": "stream",
          "text": [
            "The autoreload extension is already loaded. To reload it, use:\n",
            "  %reload_ext autoreload\n"
          ],
          "name": "stdout"
        }
      ]
    },
    {
      "cell_type": "markdown",
      "metadata": {
        "id": "PEgiHUpqXASD"
      },
      "source": [
        "## Create detector geometry and simulate tracks  \n",
        "\n",
        "The module detector creates a simple 2D geometry of a wire based tracker made by 4 planes.\n",
        "\n",
        "The adjustable parameters are the radius of each wire, the pitch (along the y axis), and the shift along y and z of a plane with respect to the previous one. \n",
        "\n",
        "A total of 8 parameters can be tuned. \n",
        "\n",
        "The goal of this toy model, is to tune the detector design so to optimize the efficiency (fraction of tracks which are detected) as well as the cost for its realization. As a proxy for the cost, we use the material/volume (the surface in 2D) of the detector. For a track to be detetected, in the efficiency definition we require at least two wires hit by the track. \n",
        "\n",
        "So we want to maximize the efficiency (defined in detector.py) and minimize the cost. \n",
        "\n",
        "#### LIST OF PARAMETERS\n",
        "(baseline values)\n",
        "* R = .5   [cm]\n",
        "* pitch = 10.0  [cm]\n",
        "* y1 = 0.0, y2 = 0.0, y3 = 0.0, z1 = 2.0, z2 = 4.0, z3 = 6.0 [cm]\n"
      ]
    },
    {
      "cell_type": "code",
      "metadata": {
        "id": "0UKp9ZzbXASE",
        "colab": {
          "base_uri": "https://localhost:8080/",
          "height": 903
        },
        "outputId": "2572b955-2d54-40d1-d82f-c20d4bc42bd1"
      },
      "source": [
        "# CONSTANT PARAMETERS\n",
        "#------ define mother region ------#\n",
        "y_min=-10.1\n",
        "y_max=10.1\n",
        "\n",
        "print(\"::::: BASELINE PARAMETERS :::::\")\n",
        "R = .5  \n",
        "pitch = 10.0  \n",
        "y1 = 0.0\n",
        "y2 = 0.0\n",
        "y3 = 0.0\n",
        "z1 = 2.0\n",
        "z2 = 4.0\n",
        "z3 = 6.0\n",
        "\n",
        "print(\"R, pitch, y1, y2, y3, z1, z2, z3: \", R, pitch, y1, y2, y3, z1, z2, z3,\"\\n\")\n",
        "\n",
        "\n",
        "#------------- GEOMETRY ---------------#\n",
        "print(\":::: INITIAL GEOMETRY ::::\")\n",
        "tr = detector2.Tracker(R, pitch, y1, y2, y3, z1, z2, z3)\n",
        "Z, Y = tr.create_geometry()\n",
        "num_wires = detector2.calculate_wires(Y, y_min, y_max)\n",
        "\n",
        "volume = detector2.wires_volume(Y, y_min, y_max,R)\n",
        "\n",
        "detector2.geometry_display(Z, Y, R, y_min=y_min, y_max=y_max,block=False,pause=5) #5\n",
        "\n",
        "print(\"# of wires: \", num_wires, \", volume: \", volume)\n",
        "\n",
        "#------------- TRACK GENERATION -----------#\n",
        "print(\":::: TRACK GENERATION ::::\")\n",
        "N_tracks = 100\n",
        "t = detector2.Tracks(b_min=-100, b_max=100, alpha_mean=0, alpha_std=0.2)\n",
        "tracks = t.generate(N_tracks)\n",
        "\n",
        "detector2.geometry_display(Z, Y, R, y_min=y_min, y_max=y_max,block=False, pause=-1)\n",
        "detector2.tracks_display(tracks, Z,block=False,pause=-1)\n",
        "\n",
        " #a track is detected if at least two wires have been hit\n",
        "score = detector2.get_score(Z, Y, tracks, R)\n",
        "frac_detected = score[0]\n",
        "print(\"fraction of tracks detected: \",frac_detected)\n",
        "\n"
      ],
      "execution_count": 49,
      "outputs": [
        {
          "output_type": "stream",
          "text": [
            "::::: BASELINE PARAMETERS :::::\n",
            "R, pitch, y1, y2, y3, z1, z2, z3:  0.5 10.0 0.0 0.0 0.0 2.0 4.0 6.0 \n",
            "\n",
            ":::: INITIAL GEOMETRY ::::\n",
            "# of wires:  12 , volume:  37.68\n",
            ":::: TRACK GENERATION ::::\n"
          ],
          "name": "stdout"
        },
        {
          "output_type": "display_data",
          "data": {
            "image/png": "[encoded data removed]",
            "text/plain": [
              "<Figure size 432x435.927 with 1 Axes>"
            ]
          },
          "metadata": {
            "tags": [],
            "needs_background": "light"
          }
        },
        {
          "output_type": "display_data",
          "data": {
            "image/png": "[encoded data removed]",
            "text/plain": [
              "<Figure size 432x435.927 with 1 Axes>"
            ]
          },
          "metadata": {
            "tags": [],
            "needs_background": "light"
          }
        },
        {
          "output_type": "stream",
          "text": [
            "fraction of tracks detected:  0.08\n"
          ],
          "name": "stdout"
        }
      ]
    },
    {
      "cell_type": "markdown",
      "metadata": {
        "id": "AkKtoY0mXASF"
      },
      "source": [
        "### Define Objectives \n",
        "\n",
        "Defines a class for the objectives of the problem that can be used in the MOO.  "
      ]
    },
    {
      "cell_type": "code",
      "metadata": {
        "id": "YJ12DuCoXASF",
        "colab": {
          "base_uri": "https://localhost:8080/"
        },
        "outputId": "4a90e1cf-2f36-49ab-ef60-60301abdf567"
      },
      "source": [
        "\n",
        "class objectives():\n",
        "\n",
        "  def __init__(self,tracks,y_min,y_max):\n",
        "    self.tracks = tracks\n",
        "    self.y_min = y_min\n",
        "    self.y_max = y_max\n",
        "\n",
        "  def wrapper_geometry(fun):\n",
        "\n",
        "      def inner(self):\n",
        "          R, pitch, y1, y2, y3, z1, z2, z3 = self.X\n",
        "          self.geometry(R, pitch, y1, y2, y3, z1, z2, z3)\n",
        "          return fun(self)\n",
        "      return inner\n",
        "\n",
        "  def update_tracks(self, new_tracks):\n",
        "    self.tracks = new_tracks\n",
        "\n",
        "  def update_design_point(self,X):\n",
        "      self.X = X\n",
        "\n",
        "\n",
        "  def geometry(self,R, pitch, y1, y2, y3, z1, z2, z3):\n",
        "    tr = detector2.Tracker(R, pitch, y1, y2, y3, z1, z2, z3)\n",
        "    self.R = R\n",
        "    self.Z, self.Y = tr.create_geometry()\n",
        "\n",
        "\n",
        "  @wrapper_geometry\n",
        "  def calc_score(self):\n",
        "      res = detector2.get_score(self.Z, self.Y, self.tracks, self.R)\n",
        "      assert res[0] >= 0 and res[1] >= 0,\"Fraction or Resolution negative.\"\n",
        "      \n",
        "      return res\n",
        "\n",
        "  \n",
        "  def get_score(self,X):\n",
        "    R, pitch, y1, y2, y3, z1, z2, z3 = X\n",
        "    self.geometry(R, pitch, y1, y2, y3, z1, z2, z3)\n",
        "    res = detector2.get_score(self.Z, self.Y, self.tracks, self.R)\n",
        "    return res\n",
        "  \n",
        "\n",
        "  def get_volume(self):\n",
        "    volume = detector2.wires_volume(self.Y, self.y_min, self.y_max,self.R)\n",
        "    return volume\n",
        "\n",
        "\n",
        "\n",
        "res = objectives(tracks,y_min,y_max)\n",
        "\n",
        "#res.geometry(R, pitch, y1, y2, y3, z1, z2, z3)\n",
        "\n",
        "X = R, pitch, y1, y2, y3, z1, z2, z3\n",
        "#fscore  = res.get_score(X)\n",
        "res.update_design_point(X)\n",
        "fscore  = res.calc_score()[0]\n",
        "fvolume = res.get_volume()\n",
        "\n",
        "print(\"...check: \", fvolume, fscore)\n",
        "\n"
      ],
      "execution_count": 35,
      "outputs": [
        {
          "output_type": "stream",
          "text": [
            "...check:  37.68 0.092\n"
          ],
          "name": "stdout"
        }
      ]
    },
    {
      "cell_type": "markdown",
      "metadata": {
        "id": "WHcsstw2XASG"
      },
      "source": [
        "\n",
        "# Multi-Objective Optimization\n",
        "\n",
        "We will be using pymoo (https://pymoo.org/getting_started.html).  \n",
        "\n",
        "* In the constructor method we specify number of variables N, objectives M, and constraint functions, as well as the lower and upper boundaries of each variable. In our toy model, these boundaries are taken in such a way that all solutions are feasible and no constraint function is needed. You can try to change this and introduce some constraint. \n",
        "\n",
        "\n",
        "\n",
        "* The *_evaluate* method takes a one-dimensional NumPy array x number of entries equal to n_var. This behavior is enabled by setting *elementwise_evaluation=True* while calling the super() method. \n",
        "\n",
        "* Notice that every function is minimized. Our efficiency is defined as an tracking inefficiency = 1 - efficiency\n",
        "\n",
        "\n"
      ]
    },
    {
      "cell_type": "code",
      "metadata": {
        "id": "RBScXlecXASG"
      },
      "source": [
        "class MyProblem(Problem):\n",
        "\n",
        "    #--------- vectorized ---------#\n",
        "\n",
        "    def __init__(self):\n",
        "        super().__init__(n_var=8,\n",
        "                         n_obj=2,\n",
        "                         n_constr=0,\n",
        "                         xl=np.array([0.5,2.5,0.,0.,0.,2.,2.,2.]),\n",
        "                         xu=np.array([1.0,5.0,4.,4.,4.,10.,10.,10.]),elementwise_evaluation=True)\n",
        "\n",
        "    def _evaluate(self, x, out, *args, **kwargs):\n",
        "\n",
        "\n",
        "        f1 = 1.-res.get_score(x)[0] \n",
        "        f2 = res.get_volume()\n",
        "\n",
        "        #if you had constraints\n",
        "        #g1 = gu1(x)\n",
        "        #g2 = gu2(x), etc. \n",
        "\n",
        "        out[\"F\"] = [f1, f2]\n",
        "        #out[\"G\"] = [g1, g2, ...]"
      ],
      "execution_count": 36,
      "outputs": []
    },
    {
      "cell_type": "markdown",
      "metadata": {
        "id": "g1yhSgvIXASH"
      },
      "source": [
        "\n",
        "\n",
        "### Creation of Problem and choice of optimization algorithm. \n",
        "\n",
        "\n",
        "* We will use NSGA-II, as explained in the lectures. You can decide the population size and the number of offsprings, based on what we discussed. \n",
        "\n",
        "\n",
        "* Pymoo offers different algorithms that can be used which are highly customizable and can be easily extended.\n",
        "https://pymoo.org/algorithms/index.html\n",
        "\n",
        "\n",
        "* Before dealing with a problem, it's useful to compare with a list of test problems reported in https://pymoo.org/problems/index.html, where different scenarios in terms of Variables, Objectives, Constraints are described. \n",
        "\n"
      ]
    },
    {
      "cell_type": "code",
      "metadata": {
        "id": "FfIfJXzlXASH",
        "colab": {
          "base_uri": "https://localhost:8080/"
        },
        "outputId": "fdf7fd27-23c6-4ebf-bab8-c9d5a1fb2401"
      },
      "source": [
        "class MyDisplay(Display):\n",
        "\n",
        "    def _do(self, problem, evaluator, algorithm):\n",
        "        super()._do(problem, evaluator, algorithm)\n",
        "        self.output.append(\"<X>\", np.mean(algorithm.pop.get(\"X\")))\n",
        "        self.output.append(\"<f1>\", np.mean(algorithm.pop.get(\"F\")[:,0]))\n",
        "        self.output.append(\"<f2>\", np.mean(algorithm.pop.get(\"F\")[:,1]))\n",
        "\n",
        "\n",
        "problem = MyProblem()\n",
        "\n",
        "\n",
        "\n",
        "algorithm = NSGA2(pop_size=100,n_offsprings=20) \n",
        "\n",
        "\n",
        "res = minimize(problem,\n",
        "               algorithm,\n",
        "               (\"n_gen\", 200),\n",
        "               verbose=True,\n",
        "               seed=1,\n",
        "               display=MyDisplay(),\n",
        "               save_history=True)"
      ],
      "execution_count": 37,
      "outputs": [
        {
          "output_type": "stream",
          "text": [
            "============================================================\n",
            "n_gen |  n_eval |     <X>      |     <f1>     |     <f2>    \n",
            "============================================================\n",
            "    1 |     100 |  3.574631175 |  0.461100000 |  1.62169E+02\n",
            "    2 |     120 |  3.568837541 |  0.443690000 |  1.59785E+02\n",
            "    3 |     140 |  3.546999418 |  0.448790000 |  1.53812E+02\n",
            "    4 |     160 |  3.527723670 |  0.453910000 |  1.49534E+02\n",
            "    5 |     180 |  3.581771507 |  0.450730000 |  1.47617E+02\n",
            "    6 |     200 |  3.529721498 |  0.448730000 |  1.45423E+02\n",
            "    7 |     220 |  3.540122585 |  0.437510000 |  1.47995E+02\n",
            "    8 |     240 |  3.543313024 |  0.411940000 |  1.55125E+02\n",
            "    9 |     260 |  3.520021809 |  0.416970000 |  1.53606E+02\n",
            "   10 |     280 |  3.516828710 |  0.415280000 |  1.51950E+02\n",
            "   11 |     300 |  3.535422980 |  0.397100000 |  1.57706E+02\n",
            "   12 |     320 |  3.577686196 |  0.386800000 |  1.60720E+02\n",
            "   13 |     340 |  3.612701166 |  0.369440000 |  1.68630E+02\n",
            "   14 |     360 |  3.625927571 |  0.369790000 |  1.67302E+02\n",
            "   15 |     380 |  3.606456127 |  0.380980000 |  1.60289E+02\n",
            "   16 |     400 |  3.574148433 |  0.384390000 |  1.59205E+02\n",
            "   17 |     420 |  3.549008123 |  0.380380000 |  1.61713E+02\n",
            "   18 |     440 |  3.535563146 |  0.378460000 |  1.61927E+02\n",
            "   19 |     460 |  3.570441112 |  0.378710000 |  1.59006E+02\n",
            "   20 |     480 |  3.580040503 |  0.375500000 |  1.60820E+02\n",
            "   21 |     500 |  3.608544492 |  0.375960000 |  1.56581E+02\n",
            "   22 |     520 |  3.627250709 |  0.376670000 |  1.56149E+02\n",
            "   23 |     540 |  3.627002046 |  0.367890000 |  1.58953E+02\n",
            "   24 |     560 |  3.603501915 |  0.366730000 |  1.60129E+02\n",
            "   25 |     580 |  3.598745245 |  0.362740000 |  1.61134E+02\n",
            "   26 |     600 |  3.589495637 |  0.384530000 |  1.46260E+02\n",
            "   27 |     620 |  3.592663175 |  0.391440000 |  1.43891E+02\n",
            "   28 |     640 |  3.606693418 |  0.386650000 |  1.46590E+02\n",
            "   29 |     660 |  3.595229487 |  0.395100000 |  1.41626E+02\n",
            "   30 |     680 |  3.579283586 |  0.402460000 |  1.40480E+02\n",
            "   31 |     700 |  3.658842322 |  0.386850000 |  1.43191E+02\n",
            "   32 |     720 |  3.659770506 |  0.376380000 |  1.47220E+02\n",
            "   33 |     740 |  3.682465802 |  0.369510000 |  1.47781E+02\n",
            "   34 |     760 |  3.667594440 |  0.376960000 |  1.44877E+02\n",
            "   35 |     780 |  3.675570715 |  0.385000000 |  1.41923E+02\n",
            "   36 |     800 |  3.670419699 |  0.383810000 |  1.42622E+02\n",
            "   37 |     820 |  3.667094310 |  0.375490000 |  1.43866E+02\n",
            "   38 |     840 |  3.674691160 |  0.366030000 |  1.46821E+02\n",
            "   39 |     860 |  3.699276512 |  0.371820000 |  1.43769E+02\n",
            "   40 |     880 |  3.660938926 |  0.363710000 |  1.49367E+02\n",
            "   41 |     900 |  3.598395631 |  0.369310000 |  1.45523E+02\n",
            "   42 |     920 |  3.581473351 |  0.369930000 |  1.45578E+02\n",
            "   43 |     940 |  3.526525403 |  0.367600000 |  1.45025E+02\n",
            "   44 |     960 |  3.443065333 |  0.363910000 |  1.48040E+02\n",
            "   45 |     980 |  3.440348455 |  0.368290000 |  1.44157E+02\n",
            "   46 |    1000 |  3.384296416 |  0.368010000 |  1.43869E+02\n",
            "   47 |    1020 |  3.330389629 |  0.362000000 |  1.43941E+02\n",
            "   48 |    1040 |  3.253177126 |  0.364740000 |  1.43702E+02\n",
            "   49 |    1060 |  3.221578958 |  0.364530000 |  1.44530E+02\n",
            "   50 |    1080 |  3.180963750 |  0.365240000 |  1.44210E+02\n",
            "   51 |    1100 |  3.141265172 |  0.372550000 |  1.42713E+02\n",
            "   52 |    1120 |  3.140050315 |  0.377390000 |  1.40368E+02\n",
            "   53 |    1140 |  3.096776903 |  0.369720000 |  1.42849E+02\n",
            "   54 |    1160 |  3.105309531 |  0.371490000 |  1.42041E+02\n",
            "   55 |    1180 |  3.088651134 |  0.372180000 |  1.41138E+02\n",
            "   56 |    1200 |  3.079303380 |  0.371620000 |  1.42227E+02\n",
            "   57 |    1220 |  3.033366680 |  0.367470000 |  1.43614E+02\n",
            "   58 |    1240 |  3.000786520 |  0.364400000 |  1.44417E+02\n",
            "   59 |    1260 |  3.010048596 |  0.363890000 |  1.44448E+02\n",
            "   60 |    1280 |  3.000603938 |  0.355340000 |  1.46411E+02\n",
            "   61 |    1300 |  2.983259827 |  0.351350000 |  1.46240E+02\n",
            "   62 |    1320 |  2.949870668 |  0.346860000 |  1.47016E+02\n",
            "   63 |    1340 |  2.963974525 |  0.364810000 |  1.39908E+02\n",
            "   64 |    1360 |  2.947901318 |  0.359900000 |  1.40751E+02\n",
            "   65 |    1380 |  2.922809604 |  0.357500000 |  1.42425E+02\n",
            "   66 |    1400 |  2.932606893 |  0.360520000 |  1.40437E+02\n",
            "   67 |    1420 |  2.914424047 |  0.357130000 |  1.41764E+02\n",
            "   68 |    1440 |  2.907346502 |  0.354640000 |  1.40942E+02\n",
            "   69 |    1460 |  2.904082764 |  0.354930000 |  1.41884E+02\n",
            "   70 |    1480 |  2.936526616 |  0.369690000 |  1.36912E+02\n",
            "   71 |    1500 |  2.937168552 |  0.379350000 |  1.32256E+02\n",
            "   72 |    1520 |  2.967094659 |  0.372280000 |  1.33332E+02\n",
            "   73 |    1540 |  2.980395968 |  0.376340000 |  1.30708E+02\n",
            "   74 |    1560 |  2.993514741 |  0.385790000 |  1.27358E+02\n",
            "   75 |    1580 |  2.995086035 |  0.386810000 |  1.27264E+02\n",
            "   76 |    1600 |  2.988595137 |  0.386580000 |  1.27942E+02\n",
            "   77 |    1620 |  2.976318833 |  0.378090000 |  1.29959E+02\n",
            "   78 |    1640 |  2.968305404 |  0.374450000 |  1.30626E+02\n",
            "   79 |    1660 |  2.934547327 |  0.374830000 |  1.30296E+02\n",
            "   80 |    1680 |  2.947798761 |  0.376530000 |  1.29731E+02\n",
            "   81 |    1700 |  2.933113336 |  0.373130000 |  1.31028E+02\n",
            "   82 |    1720 |  2.935162453 |  0.366650000 |  1.31901E+02\n",
            "   83 |    1740 |  2.936316062 |  0.371630000 |  1.30911E+02\n",
            "   84 |    1760 |  2.912247956 |  0.363960000 |  1.32721E+02\n",
            "   85 |    1780 |  2.918514673 |  0.367430000 |  1.32235E+02\n",
            "   86 |    1800 |  2.930621431 |  0.365580000 |  1.32961E+02\n",
            "   87 |    1820 |  2.916962237 |  0.358150000 |  1.34073E+02\n",
            "   88 |    1840 |  2.917930849 |  0.357890000 |  1.33952E+02\n",
            "   89 |    1860 |  2.868922998 |  0.350530000 |  1.35861E+02\n",
            "   90 |    1880 |  2.879869109 |  0.354530000 |  1.34003E+02\n",
            "   91 |    1900 |  2.898288504 |  0.361760000 |  1.32335E+02\n",
            "   92 |    1920 |  2.903990456 |  0.360640000 |  1.34062E+02\n",
            "   93 |    1940 |  2.898635972 |  0.352030000 |  1.35185E+02\n",
            "   94 |    1960 |  2.834486602 |  0.335720000 |  1.38341E+02\n",
            "   95 |    1980 |  2.760172497 |  0.322490000 |  1.41695E+02\n",
            "   96 |    2000 |  2.757268434 |  0.326850000 |  1.41188E+02\n",
            "   97 |    2020 |  2.741246363 |  0.320030000 |  1.42181E+02\n",
            "   98 |    2040 |  2.756346275 |  0.324640000 |  1.41028E+02\n",
            "   99 |    2060 |  2.748788248 |  0.318820000 |  1.42483E+02\n",
            "  100 |    2080 |  2.737554774 |  0.327330000 |  1.41065E+02\n",
            "  101 |    2100 |  2.732566553 |  0.326620000 |  1.40768E+02\n",
            "  102 |    2120 |  2.717274677 |  0.323110000 |  1.41291E+02\n",
            "  103 |    2140 |  2.720522868 |  0.327790000 |  1.40150E+02\n",
            "  104 |    2160 |  2.716835188 |  0.338870000 |  1.37018E+02\n",
            "  105 |    2180 |  2.711957865 |  0.341140000 |  1.36373E+02\n",
            "  106 |    2200 |  2.726334913 |  0.339490000 |  1.37280E+02\n",
            "  107 |    2220 |  2.738769289 |  0.339780000 |  1.37251E+02\n",
            "  108 |    2240 |  2.731310420 |  0.332890000 |  1.40585E+02\n",
            "  109 |    2260 |  2.722142618 |  0.331650000 |  1.41214E+02\n",
            "  110 |    2280 |  2.731372596 |  0.330180000 |  1.41684E+02\n",
            "  111 |    2300 |  2.755847867 |  0.336390000 |  1.40186E+02\n",
            "  112 |    2320 |  2.772892187 |  0.349270000 |  1.38020E+02\n",
            "  113 |    2340 |  2.786226715 |  0.348770000 |  1.38020E+02\n",
            "  114 |    2360 |  2.726806899 |  0.338190000 |  1.40230E+02\n",
            "  115 |    2380 |  2.736705571 |  0.342510000 |  1.37930E+02\n",
            "  116 |    2400 |  2.770046290 |  0.349920000 |  1.36006E+02\n",
            "  117 |    2420 |  2.759683552 |  0.344090000 |  1.37094E+02\n",
            "  118 |    2440 |  2.759760550 |  0.334770000 |  1.40069E+02\n",
            "  119 |    2460 |  2.729007313 |  0.332080000 |  1.39826E+02\n",
            "  120 |    2480 |  2.716614106 |  0.322110000 |  1.42079E+02\n",
            "  121 |    2500 |  2.726735752 |  0.321630000 |  1.41993E+02\n",
            "  122 |    2520 |  2.686420191 |  0.320380000 |  1.40885E+02\n",
            "  123 |    2540 |  2.681035664 |  0.317760000 |  1.41362E+02\n",
            "  124 |    2560 |  2.699672885 |  0.320160000 |  1.39563E+02\n",
            "  125 |    2580 |  2.693147536 |  0.318260000 |  1.40640E+02\n",
            "  126 |    2600 |  2.695928593 |  0.322210000 |  1.40982E+02\n",
            "  127 |    2620 |  2.680296199 |  0.320460000 |  1.41632E+02\n",
            "  128 |    2640 |  2.696399818 |  0.319740000 |  1.41518E+02\n",
            "  129 |    2660 |  2.698531606 |  0.313360000 |  1.42351E+02\n",
            "  130 |    2680 |  2.699245786 |  0.320070000 |  1.40819E+02\n",
            "  131 |    2700 |  2.712846784 |  0.316770000 |  1.41134E+02\n",
            "  132 |    2720 |  2.728046284 |  0.307610000 |  1.42281E+02\n",
            "  133 |    2740 |  2.705870151 |  0.299440000 |  1.44825E+02\n",
            "  134 |    2760 |  2.709271758 |  0.298520000 |  1.45383E+02\n",
            "  135 |    2780 |  2.709629340 |  0.296000000 |  1.47422E+02\n",
            "  136 |    2800 |  2.712648903 |  0.300640000 |  1.43965E+02\n",
            "  137 |    2820 |  2.726832315 |  0.301100000 |  1.44391E+02\n",
            "  138 |    2840 |  2.683691628 |  0.291390000 |  1.45628E+02\n",
            "  139 |    2860 |  2.705015798 |  0.291160000 |  1.46294E+02\n",
            "  140 |    2880 |  2.652985320 |  0.277070000 |  1.50181E+02\n",
            "  141 |    2900 |  2.645930022 |  0.274450000 |  1.52228E+02\n",
            "  142 |    2920 |  2.654240848 |  0.277960000 |  1.50633E+02\n",
            "  143 |    2940 |  2.669183153 |  0.283930000 |  1.48105E+02\n",
            "  144 |    2960 |  2.640761518 |  0.272850000 |  1.52134E+02\n",
            "  145 |    2980 |  2.646061478 |  0.282710000 |  1.48693E+02\n",
            "  146 |    3000 |  2.643677908 |  0.280340000 |  1.50291E+02\n",
            "  147 |    3020 |  2.617512371 |  0.278620000 |  1.49677E+02\n",
            "  148 |    3040 |  2.624316160 |  0.281370000 |  1.49778E+02\n",
            "  149 |    3060 |  2.617893580 |  0.282820000 |  1.48295E+02\n",
            "  150 |    3080 |  2.653610780 |  0.291620000 |  1.46017E+02\n",
            "  151 |    3100 |  2.641354441 |  0.288070000 |  1.46759E+02\n",
            "  152 |    3120 |  2.653363898 |  0.300510000 |  1.41063E+02\n",
            "  153 |    3140 |  2.633234590 |  0.292620000 |  1.43501E+02\n",
            "  154 |    3160 |  2.651910347 |  0.299170000 |  1.41408E+02\n",
            "  155 |    3180 |  2.640982224 |  0.296330000 |  1.42295E+02\n",
            "  156 |    3200 |  2.656175339 |  0.296990000 |  1.43670E+02\n",
            "  157 |    3220 |  2.656016634 |  0.297900000 |  1.43278E+02\n",
            "  158 |    3240 |  2.624525669 |  0.293300000 |  1.43417E+02\n",
            "  159 |    3260 |  2.687862114 |  0.298340000 |  1.42561E+02\n",
            "  160 |    3280 |  2.697968315 |  0.294830000 |  1.44064E+02\n",
            "  161 |    3300 |  2.685698845 |  0.296740000 |  1.44552E+02\n",
            "  162 |    3320 |  2.669786609 |  0.295230000 |  1.40276E+02\n",
            "  163 |    3340 |  2.684042101 |  0.299590000 |  1.39622E+02\n",
            "  164 |    3360 |  2.665528215 |  0.294710000 |  1.41306E+02\n",
            "  165 |    3380 |  2.671936280 |  0.296450000 |  1.40801E+02\n",
            "  166 |    3400 |  2.680852568 |  0.291790000 |  1.42254E+02\n",
            "  167 |    3420 |  2.651263038 |  0.276660000 |  1.44251E+02\n",
            "  168 |    3440 |  2.651954478 |  0.273730000 |  1.44970E+02\n",
            "  169 |    3460 |  2.630510695 |  0.270580000 |  1.47731E+02\n",
            "  170 |    3480 |  2.710225631 |  0.282570000 |  1.42676E+02\n",
            "  171 |    3500 |  2.659829716 |  0.276680000 |  1.44043E+02\n",
            "  172 |    3520 |  2.683981895 |  0.283240000 |  1.42332E+02\n",
            "  173 |    3540 |  2.665871741 |  0.274160000 |  1.45010E+02\n",
            "  174 |    3560 |  2.651516053 |  0.271040000 |  1.46594E+02\n",
            "  175 |    3580 |  2.644505919 |  0.280120000 |  1.42930E+02\n",
            "  176 |    3600 |  2.622832846 |  0.282940000 |  1.42473E+02\n",
            "  177 |    3620 |  2.645901924 |  0.281330000 |  1.42917E+02\n",
            "  178 |    3640 |  2.651131611 |  0.280780000 |  1.42343E+02\n",
            "  179 |    3660 |  2.596947385 |  0.275060000 |  1.44129E+02\n",
            "  180 |    3680 |  2.604607060 |  0.277930000 |  1.43441E+02\n",
            "  181 |    3700 |  2.593839573 |  0.261450000 |  1.49812E+02\n",
            "  182 |    3720 |  2.609441829 |  0.262790000 |  1.48458E+02\n",
            "  183 |    3740 |  2.633067364 |  0.273950000 |  1.45164E+02\n",
            "  184 |    3760 |  2.615960165 |  0.271580000 |  1.45890E+02\n",
            "  185 |    3780 |  2.608874089 |  0.266660000 |  1.47437E+02\n",
            "  186 |    3800 |  2.604054177 |  0.261960000 |  1.50128E+02\n",
            "  187 |    3820 |  2.595332710 |  0.267230000 |  1.46999E+02\n",
            "  188 |    3840 |  2.570177847 |  0.267530000 |  1.46481E+02\n",
            "  189 |    3860 |  2.572510486 |  0.267530000 |  1.46883E+02\n",
            "  190 |    3880 |  2.534911096 |  0.254660000 |  1.50411E+02\n",
            "  191 |    3900 |  2.535293056 |  0.258680000 |  1.48874E+02\n",
            "  192 |    3920 |  2.540679329 |  0.260230000 |  1.48439E+02\n",
            "  193 |    3940 |  2.551927128 |  0.264370000 |  1.47938E+02\n",
            "  194 |    3960 |  2.539143474 |  0.253790000 |  1.50595E+02\n",
            "  195 |    3980 |  2.536030140 |  0.251240000 |  1.52473E+02\n",
            "  196 |    4000 |  2.540793919 |  0.255380000 |  1.51403E+02\n",
            "  197 |    4020 |  2.546102372 |  0.256290000 |  1.51843E+02\n",
            "  198 |    4040 |  2.566380817 |  0.257360000 |  1.51174E+02\n",
            "  199 |    4060 |  2.581222762 |  0.261330000 |  1.51799E+02\n",
            "  200 |    4080 |  2.563211894 |  0.263680000 |  1.51406E+02\n"
          ],
          "name": "stdout"
        }
      ]
    },
    {
      "cell_type": "markdown",
      "metadata": {
        "id": "jR1xMwb2XASI"
      },
      "source": [
        "\n",
        "### Comments:\n",
        "\n",
        "You can change what to display during the generations following: http://pymoo.org/interface/display.html\n",
        "\n",
        "e.g.:\n",
        "* n_gen: # of generations  \n",
        "* n_eval: # of evaluations. In the first generation the population is created. Then at each iteration, we create new offsprings.   \n",
        "* n_nds: # of non dominated solutions        \n",
        "* indicator: all solutions are feasible within the provided ranges. No constraint violations expected (you can check this). \n",
        "\n",
        "\n",
        "res.F, res.X allow to display the Pareto front (in the objective space) and set (in the design space)   "
      ]
    },
    {
      "cell_type": "markdown",
      "metadata": {
        "id": "VR1ZGSeTXASI"
      },
      "source": [
        "## Analysis of Results "
      ]
    },
    {
      "cell_type": "code",
      "metadata": {
        "id": "5pGfDWKKXASJ",
        "colab": {
          "base_uri": "https://localhost:8080/",
          "height": 419
        },
        "outputId": "e9a6c2f7-999c-4201-a0b5-7e33ce983a29"
      },
      "source": [
        "plot = Scatter(labels=[\"tracker inefficiency\",\"volume (proxy of cost)\"], title = \"Objective Space\")\n",
        "plot.add(res.F, color=\"red\")\n",
        "plot.show()"
      ],
      "execution_count": 38,
      "outputs": [
        {
          "output_type": "execute_result",
          "data": {
            "text/plain": [
              "<pymoo.visualization.scatter.Scatter at 0x7f8db1e8e898>"
            ]
          },
          "metadata": {
            "tags": []
          },
          "execution_count": 38
        },
        {
          "output_type": "display_data",
          "data": {
            "image/png": "[encoded data removed]",
            "text/plain": [
              "<Figure size 576x432 with 1 Axes>"
            ]
          },
          "metadata": {
            "tags": [],
            "needs_background": "light"
          }
        }
      ]
    },
    {
      "cell_type": "markdown",
      "metadata": {
        "id": "OH2HpHYWXASK"
      },
      "source": [
        "### Comments: "
      ]
    },
    {
      "cell_type": "markdown",
      "metadata": {
        "id": "RdRrl0VwXASK"
      },
      "source": [
        "\n",
        "# Post-processing: Metrics and Decision Making  "
      ]
    },
    {
      "cell_type": "code",
      "metadata": {
        "id": "NNOgByRhXASK"
      },
      "source": [
        "\n",
        "#-----------------------------------#\n",
        "#          Post-Processing          #\n",
        "#-----------------------------------#\n",
        "#------------------------------------------------------------------------------#\n",
        "\n",
        "n_evals = []    # corresponding number of function evaluations\\\n",
        "F = []          # the objective space values in each generation\n",
        "cv = []         # constraint violation in each generation\n",
        "\n",
        "\n",
        "# iterate over the deepcopies of algorithms\n",
        "for algorithm in res.history:\n",
        "\n",
        "    # store the number of function evaluations\n",
        "    n_evals.append(algorithm.evaluator.n_eval)\n",
        "\n",
        "    # retrieve the optimum from the algorithm\n",
        "    opt = algorithm.opt\n",
        "\n",
        "    # store the least contraint violation in this generation (in case this happens)\n",
        "    cv.append(opt.get(\"CV\").min())\n",
        "\n",
        "    # filter out only the feasible and append\n",
        "    feas = np.where(opt.get(\"feasible\"))[0]\n",
        "    _F = opt.get(\"F\")[feas]\n",
        "    F.append(_F)\n",
        "\n",
        "\n"
      ],
      "execution_count": 39,
      "outputs": []
    },
    {
      "cell_type": "code",
      "metadata": {
        "id": "JNH7q_KGXASL",
        "colab": {
          "base_uri": "https://localhost:8080/",
          "height": 293
        },
        "outputId": "4eab1c01-4449-471d-ec3c-92520c494544"
      },
      "source": [
        "#-----------------------------------#\n",
        "#              Metrics              #\n",
        "#-----------------------------------#\n",
        "#------------------------------------------------------------------------------#\n",
        "\n",
        "# MODIFY - this is problem dependent: \n",
        "# you can choose any reasonable reference point and calculate the hypervolume with respect to that point. \n",
        "ref_point = np.array([0.5, 200])\n",
        "\n",
        "# create the performance indicator object with reference point\n",
        "metric = Hypervolume(ref_point=ref_point, normalize=False)\n",
        "\n",
        "\n",
        "# calculate for each generation the HV metric\n",
        "hv = [metric.calc(f) for f in F]  #or res.F\n",
        "\n",
        "plt.figure() \n",
        "# visualize the convergence curve\n",
        "plt.plot(n_evals, hv, '-o', markersize=4, linewidth=2)\n",
        "plt.title(\"Convergence\")\n",
        "plt.xlabel(\"Function Evaluations\")\n",
        "plt.ylabel(\"Hypervolume\")\n",
        "plt.show()\n"
      ],
      "execution_count": 40,
      "outputs": [
        {
          "output_type": "display_data",
          "data": {
            "image/png": "[encoded data removed]",
            "text/plain": [
              "<Figure size 432x288 with 1 Axes>"
            ]
          },
          "metadata": {
            "tags": [],
            "needs_background": "light"
          }
        }
      ]
    },
    {
      "cell_type": "markdown",
      "metadata": {
        "id": "laDBZRtVXASM"
      },
      "source": [
        "\n",
        "# Decision Making \n",
        "\n",
        "The obtained trade-off Pareto solutions can be assigned a pseudo-weight (on each direction of the objexctive space, the pseudo-weight will range in [0,1]) where (1,0) means small f1 (x) and large f2 (y).\n",
        "\n",
        "The values of the pseudo-weights will depend on the position of the points on the Pareto front\n",
        "\n",
        "After a pseudo-weight is assigned to each solution, the one closer to the decision maker's wish may be selected.\n",
        "\n",
        "For details, see  https://arxiv.org/pdf/2002.04504.pdf\n",
        "\n",
        "\n"
      ]
    },
    {
      "cell_type": "code",
      "metadata": {
        "id": "mFpYcORzXASN",
        "colab": {
          "base_uri": "https://localhost:8080/"
        },
        "outputId": "9bb6f817-67e1-4297-8211-babde3871d44"
      },
      "source": [
        "\n",
        "weights_a = np.array([0., 0.])\n",
        "a, pseudo_weights_a = get_decision_making(\"pseudo-weights\", weights_a).do(res.F, return_pseudo_weights=True)\n",
        "\n",
        "weights_b = np.array([0.5, 0.5])\n",
        "b, pseudo_weights_b = get_decision_making(\"pseudo-weights\", weights_b).do(res.F, return_pseudo_weights=True)\n",
        "\n",
        "weights_c = np.array([1.0, 1.0])\n",
        "c, pseudo_weights_c = get_decision_making(\"pseudo-weights\", weights_c).do(res.F, return_pseudo_weights=True)\n",
        "\n",
        "\n",
        "\n",
        "print(a)\n",
        "print(b)\n",
        "print(res.F[a])\n",
        "print(res.F[[a,b]])\n",
        "\n",
        "\n",
        "print(\"...weights: \", weights_a)\n",
        "#print(\"...pseudo_weights: \", pseudo_weights_a)\n",
        "X_par = res.X\n",
        "idx_opt = a\n",
        "X_opt = X_par[idx_opt, :]\n",
        "print(\"...solution and objectives\")\n",
        "print(X_opt)\n",
        "print(res.F[idx_opt])\n",
        "\n",
        "print(\"\")\n",
        "\n",
        "print(\"...weights: \", weights_b)\n",
        "#print(\"...pseudo_weights: \", pseudo_weights_b)\n",
        "idx_opt = b\n",
        "X_opt = X_par[idx_opt, :]\n",
        "print(\"...solution and objectives\")\n",
        "print(X_opt)\n",
        "print(res.F[idx_opt])\n",
        "\n",
        "print(\"\")\n",
        "\n",
        "print(\"...weights: \", weights_c)\n",
        "#print(\"...pseudo_weights: \", pseudo_weights_c)\n",
        "idx_opt = c\n",
        "X_opt = X_par[idx_opt, :]\n",
        "print(\"...solution and objectives\")\n",
        "print(X_opt)\n",
        "print(res.F[idx_opt])"
      ],
      "execution_count": 41,
      "outputs": [
        {
          "output_type": "stream",
          "text": [
            "7\n",
            "74\n",
            "[ 0.682      58.48384247]\n",
            "[[  0.682       58.48384247]\n",
            " [  0.21       137.82772621]]\n",
            "...weights:  [0. 0.]\n",
            "...solution and objectives\n",
            "[0.50861232 4.38207084 1.62837986 3.83104715 1.53213803 8.12096027\n",
            " 6.12204169 7.73654029]\n",
            "[ 0.682      58.48384247]\n",
            "\n",
            "...weights:  [0.5 0.5]\n",
            "...solution and objectives\n",
            "[0.59496666 2.53909898 1.36612023 3.89498694 1.40943544 2.27555563\n",
            " 2.140642   2.16839752]\n",
            "[  0.21       137.82772621]\n",
            "\n",
            "...weights:  [1. 1.]\n",
            "...solution and objectives\n",
            "[0.50028231 2.56217051 1.57003621 0.95293298 1.52351978 4.06735651\n",
            " 9.55632328 2.61070525]\n",
            "[ 0.419      94.30640521]\n"
          ],
          "name": "stdout"
        }
      ]
    }
  ]
}